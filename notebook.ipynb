{
 "cells": [
  {
   "cell_type": "markdown",
   "id": "41965c64",
   "metadata": {},
   "source": [
    "# CSE 40647 Data Science Final Project\n",
    "\n",
    "Students:\n",
    "- Noor Maria Achkar (nachkar@nd.edu)\n",
    "- Tram Trinh (htrinh@nd.edu)"
   ]
  },
  {
   "cell_type": "markdown",
   "id": "ce2a9388",
   "metadata": {},
   "source": [
    "### Starter Code"
   ]
  },
  {
   "cell_type": "code",
   "execution_count": 2,
   "id": "a3b73b8f",
   "metadata": {},
   "outputs": [],
   "source": [
    "# Allow inline plotting of figures.\n",
    "%matplotlib inline\n",
    "\n",
    "# Import useful libraries.\n",
    "import matplotlib.pyplot as plt\n",
    "import numpy as np\n",
    "import pandas as pd\n",
    "import seaborn as sns\n",
    "from sklearn.preprocessing import OneHotEncoder\n",
    "from sklearn.model_selection import train_test_split\n",
    "from sklearn.tree import DecisionTreeClassifier\n",
    "from sklearn.ensemble import RandomForestClassifier\n",
    "from sklearn.naive_bayes import GaussianNB\n",
    "from sklearn.linear_model import LogisticRegression\n",
    "from sklearn.neighbors import KNeighborsClassifier\n",
    "from sklearn.model_selection import GridSearchCV\n",
    "from scipy.stats import ttest_ind\n",
    "from sklearn.model_selection import cross_val_score\n",
    "from sklearn.base import BaseEstimator, ClassifierMixin\n",
    "from sklearn.model_selection import learning_curve\n",
    "from scipy.stats import ttest_rel\n",
    "from sklearn.metrics import roc_auc_score\n",
    "from sklearn.utils import check_array\n",
    "from sklearn.dummy import DummyClassifier"
   ]
  },
  {
   "cell_type": "code",
   "execution_count": 3,
   "id": "98865892",
   "metadata": {},
   "outputs": [
    {
     "data": {
      "text/html": [
       "<div>\n",
       "<style scoped>\n",
       "    .dataframe tbody tr th:only-of-type {\n",
       "        vertical-align: middle;\n",
       "    }\n",
       "\n",
       "    .dataframe tbody tr th {\n",
       "        vertical-align: top;\n",
       "    }\n",
       "\n",
       "    .dataframe thead th {\n",
       "        text-align: right;\n",
       "    }\n",
       "</style>\n",
       "<table border=\"1\" class=\"dataframe\">\n",
       "  <thead>\n",
       "    <tr style=\"text-align: right;\">\n",
       "      <th></th>\n",
       "      <th>Marital status</th>\n",
       "      <th>Application mode</th>\n",
       "      <th>Application order</th>\n",
       "      <th>Course</th>\n",
       "      <th>Daytime/evening attendance</th>\n",
       "      <th>Previous qualification</th>\n",
       "      <th>Nacionality</th>\n",
       "      <th>Mother's qualification</th>\n",
       "      <th>Father's qualification</th>\n",
       "      <th>Mother's occupation</th>\n",
       "      <th>...</th>\n",
       "      <th>Curricular units 2nd sem (credited)</th>\n",
       "      <th>Curricular units 2nd sem (enrolled)</th>\n",
       "      <th>Curricular units 2nd sem (evaluations)</th>\n",
       "      <th>Curricular units 2nd sem (approved)</th>\n",
       "      <th>Curricular units 2nd sem (grade)</th>\n",
       "      <th>Curricular units 2nd sem (without evaluations)</th>\n",
       "      <th>Unemployment rate</th>\n",
       "      <th>Inflation rate</th>\n",
       "      <th>GDP</th>\n",
       "      <th>Target</th>\n",
       "    </tr>\n",
       "  </thead>\n",
       "  <tbody>\n",
       "    <tr>\n",
       "      <th>0</th>\n",
       "      <td>1</td>\n",
       "      <td>8</td>\n",
       "      <td>5</td>\n",
       "      <td>2</td>\n",
       "      <td>1</td>\n",
       "      <td>1</td>\n",
       "      <td>1</td>\n",
       "      <td>13</td>\n",
       "      <td>10</td>\n",
       "      <td>6</td>\n",
       "      <td>...</td>\n",
       "      <td>0</td>\n",
       "      <td>0</td>\n",
       "      <td>0</td>\n",
       "      <td>0</td>\n",
       "      <td>0.000000</td>\n",
       "      <td>0</td>\n",
       "      <td>10.8</td>\n",
       "      <td>1.4</td>\n",
       "      <td>1.74</td>\n",
       "      <td>Dropout</td>\n",
       "    </tr>\n",
       "    <tr>\n",
       "      <th>1</th>\n",
       "      <td>1</td>\n",
       "      <td>6</td>\n",
       "      <td>1</td>\n",
       "      <td>11</td>\n",
       "      <td>1</td>\n",
       "      <td>1</td>\n",
       "      <td>1</td>\n",
       "      <td>1</td>\n",
       "      <td>3</td>\n",
       "      <td>4</td>\n",
       "      <td>...</td>\n",
       "      <td>0</td>\n",
       "      <td>6</td>\n",
       "      <td>6</td>\n",
       "      <td>6</td>\n",
       "      <td>13.666667</td>\n",
       "      <td>0</td>\n",
       "      <td>13.9</td>\n",
       "      <td>-0.3</td>\n",
       "      <td>0.79</td>\n",
       "      <td>Graduate</td>\n",
       "    </tr>\n",
       "    <tr>\n",
       "      <th>2</th>\n",
       "      <td>1</td>\n",
       "      <td>1</td>\n",
       "      <td>5</td>\n",
       "      <td>5</td>\n",
       "      <td>1</td>\n",
       "      <td>1</td>\n",
       "      <td>1</td>\n",
       "      <td>22</td>\n",
       "      <td>27</td>\n",
       "      <td>10</td>\n",
       "      <td>...</td>\n",
       "      <td>0</td>\n",
       "      <td>6</td>\n",
       "      <td>0</td>\n",
       "      <td>0</td>\n",
       "      <td>0.000000</td>\n",
       "      <td>0</td>\n",
       "      <td>10.8</td>\n",
       "      <td>1.4</td>\n",
       "      <td>1.74</td>\n",
       "      <td>Dropout</td>\n",
       "    </tr>\n",
       "    <tr>\n",
       "      <th>3</th>\n",
       "      <td>1</td>\n",
       "      <td>8</td>\n",
       "      <td>2</td>\n",
       "      <td>15</td>\n",
       "      <td>1</td>\n",
       "      <td>1</td>\n",
       "      <td>1</td>\n",
       "      <td>23</td>\n",
       "      <td>27</td>\n",
       "      <td>6</td>\n",
       "      <td>...</td>\n",
       "      <td>0</td>\n",
       "      <td>6</td>\n",
       "      <td>10</td>\n",
       "      <td>5</td>\n",
       "      <td>12.400000</td>\n",
       "      <td>0</td>\n",
       "      <td>9.4</td>\n",
       "      <td>-0.8</td>\n",
       "      <td>-3.12</td>\n",
       "      <td>Graduate</td>\n",
       "    </tr>\n",
       "    <tr>\n",
       "      <th>4</th>\n",
       "      <td>2</td>\n",
       "      <td>12</td>\n",
       "      <td>1</td>\n",
       "      <td>3</td>\n",
       "      <td>0</td>\n",
       "      <td>1</td>\n",
       "      <td>1</td>\n",
       "      <td>22</td>\n",
       "      <td>28</td>\n",
       "      <td>10</td>\n",
       "      <td>...</td>\n",
       "      <td>0</td>\n",
       "      <td>6</td>\n",
       "      <td>6</td>\n",
       "      <td>6</td>\n",
       "      <td>13.000000</td>\n",
       "      <td>0</td>\n",
       "      <td>13.9</td>\n",
       "      <td>-0.3</td>\n",
       "      <td>0.79</td>\n",
       "      <td>Graduate</td>\n",
       "    </tr>\n",
       "  </tbody>\n",
       "</table>\n",
       "<p>5 rows × 35 columns</p>\n",
       "</div>"
      ],
      "text/plain": [
       "   Marital status  Application mode  Application order  Course  \\\n",
       "0               1                 8                  5       2   \n",
       "1               1                 6                  1      11   \n",
       "2               1                 1                  5       5   \n",
       "3               1                 8                  2      15   \n",
       "4               2                12                  1       3   \n",
       "\n",
       "   Daytime/evening attendance  Previous qualification  Nacionality  \\\n",
       "0                           1                       1            1   \n",
       "1                           1                       1            1   \n",
       "2                           1                       1            1   \n",
       "3                           1                       1            1   \n",
       "4                           0                       1            1   \n",
       "\n",
       "   Mother's qualification  Father's qualification  Mother's occupation  ...  \\\n",
       "0                      13                      10                    6  ...   \n",
       "1                       1                       3                    4  ...   \n",
       "2                      22                      27                   10  ...   \n",
       "3                      23                      27                    6  ...   \n",
       "4                      22                      28                   10  ...   \n",
       "\n",
       "   Curricular units 2nd sem (credited)  Curricular units 2nd sem (enrolled)  \\\n",
       "0                                    0                                    0   \n",
       "1                                    0                                    6   \n",
       "2                                    0                                    6   \n",
       "3                                    0                                    6   \n",
       "4                                    0                                    6   \n",
       "\n",
       "   Curricular units 2nd sem (evaluations)  \\\n",
       "0                                       0   \n",
       "1                                       6   \n",
       "2                                       0   \n",
       "3                                      10   \n",
       "4                                       6   \n",
       "\n",
       "   Curricular units 2nd sem (approved)  Curricular units 2nd sem (grade)  \\\n",
       "0                                    0                          0.000000   \n",
       "1                                    6                         13.666667   \n",
       "2                                    0                          0.000000   \n",
       "3                                    5                         12.400000   \n",
       "4                                    6                         13.000000   \n",
       "\n",
       "   Curricular units 2nd sem (without evaluations)  Unemployment rate  \\\n",
       "0                                               0               10.8   \n",
       "1                                               0               13.9   \n",
       "2                                               0               10.8   \n",
       "3                                               0                9.4   \n",
       "4                                               0               13.9   \n",
       "\n",
       "   Inflation rate   GDP    Target  \n",
       "0             1.4  1.74   Dropout  \n",
       "1            -0.3  0.79  Graduate  \n",
       "2             1.4  1.74   Dropout  \n",
       "3            -0.8 -3.12  Graduate  \n",
       "4            -0.3  0.79  Graduate  \n",
       "\n",
       "[5 rows x 35 columns]"
      ]
     },
     "execution_count": 3,
     "metadata": {},
     "output_type": "execute_result"
    }
   ],
   "source": [
    "# For plot formatting.\n",
    "plt.style.use = 'default'\n",
    "plt.rcParams[\"patch.force_edgecolor\"] = True  # helpful for matplotlib version greater than 2\n",
    "\n",
    "# Read the file into a DataFrame.\n",
    "raw_data = pd.read_csv('./dataset.csv')\n",
    "\n",
    "# Output the first few rows of the dataset.\n",
    "raw_data.head()"
   ]
  },
  {
   "cell_type": "markdown",
   "id": "170d7cdc",
   "metadata": {},
   "source": [
    "## Data Understanding and Preprocessing"
   ]
  },
  {
   "cell_type": "code",
   "execution_count": 4,
   "id": "da6bf1d8",
   "metadata": {},
   "outputs": [
    {
     "data": {
      "text/plain": [
       "(4424, 35)"
      ]
     },
     "execution_count": 4,
     "metadata": {},
     "output_type": "execute_result"
    }
   ],
   "source": [
    "raw_data.shape"
   ]
  },
  {
   "cell_type": "code",
   "execution_count": 5,
   "id": "029884c6",
   "metadata": {},
   "outputs": [
    {
     "data": {
      "text/plain": [
       "<bound method DataFrame.info of       Marital status  Application mode  Application order  Course  \\\n",
       "0                  1                 8                  5       2   \n",
       "1                  1                 6                  1      11   \n",
       "2                  1                 1                  5       5   \n",
       "3                  1                 8                  2      15   \n",
       "4                  2                12                  1       3   \n",
       "...              ...               ...                ...     ...   \n",
       "4419               1                 1                  6      15   \n",
       "4420               1                 1                  2      15   \n",
       "4421               1                 1                  1      12   \n",
       "4422               1                 1                  1       9   \n",
       "4423               1                 5                  1      15   \n",
       "\n",
       "      Daytime/evening attendance  Previous qualification  Nacionality  \\\n",
       "0                              1                       1            1   \n",
       "1                              1                       1            1   \n",
       "2                              1                       1            1   \n",
       "3                              1                       1            1   \n",
       "4                              0                       1            1   \n",
       "...                          ...                     ...          ...   \n",
       "4419                           1                       1            1   \n",
       "4420                           1                       1           19   \n",
       "4421                           1                       1            1   \n",
       "4422                           1                       1            1   \n",
       "4423                           1                       1            9   \n",
       "\n",
       "      Mother's qualification  Father's qualification  Mother's occupation  \\\n",
       "0                         13                      10                    6   \n",
       "1                          1                       3                    4   \n",
       "2                         22                      27                   10   \n",
       "3                         23                      27                    6   \n",
       "4                         22                      28                   10   \n",
       "...                      ...                     ...                  ...   \n",
       "4419                       1                       1                    6   \n",
       "4420                       1                       1                   10   \n",
       "4421                      22                      27                   10   \n",
       "4422                      22                      27                    8   \n",
       "4423                      23                      27                    6   \n",
       "\n",
       "      ...  Curricular units 2nd sem (credited)  \\\n",
       "0     ...                                    0   \n",
       "1     ...                                    0   \n",
       "2     ...                                    0   \n",
       "3     ...                                    0   \n",
       "4     ...                                    0   \n",
       "...   ...                                  ...   \n",
       "4419  ...                                    0   \n",
       "4420  ...                                    0   \n",
       "4421  ...                                    0   \n",
       "4422  ...                                    0   \n",
       "4423  ...                                    0   \n",
       "\n",
       "      Curricular units 2nd sem (enrolled)  \\\n",
       "0                                       0   \n",
       "1                                       6   \n",
       "2                                       6   \n",
       "3                                       6   \n",
       "4                                       6   \n",
       "...                                   ...   \n",
       "4419                                    6   \n",
       "4420                                    6   \n",
       "4421                                    8   \n",
       "4422                                    5   \n",
       "4423                                    6   \n",
       "\n",
       "      Curricular units 2nd sem (evaluations)  \\\n",
       "0                                          0   \n",
       "1                                          6   \n",
       "2                                          0   \n",
       "3                                         10   \n",
       "4                                          6   \n",
       "...                                      ...   \n",
       "4419                                       8   \n",
       "4420                                       6   \n",
       "4421                                       9   \n",
       "4422                                       6   \n",
       "4423                                       6   \n",
       "\n",
       "      Curricular units 2nd sem (approved)  Curricular units 2nd sem (grade)  \\\n",
       "0                                       0                          0.000000   \n",
       "1                                       6                         13.666667   \n",
       "2                                       0                          0.000000   \n",
       "3                                       5                         12.400000   \n",
       "4                                       6                         13.000000   \n",
       "...                                   ...                               ...   \n",
       "4419                                    5                         12.666667   \n",
       "4420                                    2                         11.000000   \n",
       "4421                                    1                         13.500000   \n",
       "4422                                    5                         12.000000   \n",
       "4423                                    6                         13.000000   \n",
       "\n",
       "      Curricular units 2nd sem (without evaluations)  Unemployment rate  \\\n",
       "0                                                  0               10.8   \n",
       "1                                                  0               13.9   \n",
       "2                                                  0               10.8   \n",
       "3                                                  0                9.4   \n",
       "4                                                  0               13.9   \n",
       "...                                              ...                ...   \n",
       "4419                                               0               15.5   \n",
       "4420                                               0               11.1   \n",
       "4421                                               0               13.9   \n",
       "4422                                               0                9.4   \n",
       "4423                                               0               12.7   \n",
       "\n",
       "      Inflation rate   GDP    Target  \n",
       "0                1.4  1.74   Dropout  \n",
       "1               -0.3  0.79  Graduate  \n",
       "2                1.4  1.74   Dropout  \n",
       "3               -0.8 -3.12  Graduate  \n",
       "4               -0.3  0.79  Graduate  \n",
       "...              ...   ...       ...  \n",
       "4419             2.8 -4.06  Graduate  \n",
       "4420             0.6  2.02   Dropout  \n",
       "4421            -0.3  0.79   Dropout  \n",
       "4422            -0.8 -3.12  Graduate  \n",
       "4423             3.7 -1.70  Graduate  \n",
       "\n",
       "[4424 rows x 35 columns]>"
      ]
     },
     "execution_count": 5,
     "metadata": {},
     "output_type": "execute_result"
    }
   ],
   "source": [
    "raw_data.info"
   ]
  },
  {
   "cell_type": "code",
   "execution_count": 6,
   "id": "91ff76ba",
   "metadata": {},
   "outputs": [
    {
     "name": "stdout",
     "output_type": "stream",
     "text": [
      "Marital status                                    0\n",
      "Application mode                                  0\n",
      "Application order                                 0\n",
      "Course                                            0\n",
      "Daytime/evening attendance                        0\n",
      "Previous qualification                            0\n",
      "Nacionality                                       0\n",
      "Mother's qualification                            0\n",
      "Father's qualification                            0\n",
      "Mother's occupation                               0\n",
      "Father's occupation                               0\n",
      "Displaced                                         0\n",
      "Educational special needs                         0\n",
      "Debtor                                            0\n",
      "Tuition fees up to date                           0\n",
      "Gender                                            0\n",
      "Scholarship holder                                0\n",
      "Age at enrollment                                 0\n",
      "International                                     0\n",
      "Curricular units 1st sem (credited)               0\n",
      "Curricular units 1st sem (enrolled)               0\n",
      "Curricular units 1st sem (evaluations)            0\n",
      "Curricular units 1st sem (approved)               0\n",
      "Curricular units 1st sem (grade)                  0\n",
      "Curricular units 1st sem (without evaluations)    0\n",
      "Curricular units 2nd sem (credited)               0\n",
      "Curricular units 2nd sem (enrolled)               0\n",
      "Curricular units 2nd sem (evaluations)            0\n",
      "Curricular units 2nd sem (approved)               0\n",
      "Curricular units 2nd sem (grade)                  0\n",
      "Curricular units 2nd sem (without evaluations)    0\n",
      "Unemployment rate                                 0\n",
      "Inflation rate                                    0\n",
      "GDP                                               0\n",
      "Target                                            0\n",
      "dtype: int64\n"
     ]
    }
   ],
   "source": [
    "# Check for NULL\n",
    "print(raw_data.isnull().sum())"
   ]
  },
  {
   "cell_type": "code",
   "execution_count": 7,
   "id": "23caa562",
   "metadata": {},
   "outputs": [
    {
     "name": "stdout",
     "output_type": "stream",
     "text": [
      "0\n"
     ]
    }
   ],
   "source": [
    "# Check for duplicates\n",
    "print(raw_data.duplicated().sum())"
   ]
  },
  {
   "cell_type": "code",
   "execution_count": 8,
   "id": "341a0068",
   "metadata": {},
   "outputs": [
    {
     "data": {
      "text/plain": [
       "array(['Dropout', 'Graduate', 'Enrolled'], dtype=object)"
      ]
     },
     "execution_count": 8,
     "metadata": {},
     "output_type": "execute_result"
    }
   ],
   "source": [
    "raw_data['Target'].unique()"
   ]
  },
  {
   "cell_type": "code",
   "execution_count": 9,
   "id": "37bb6a47",
   "metadata": {},
   "outputs": [
    {
     "data": {
      "text/html": [
       "<div>\n",
       "<style scoped>\n",
       "    .dataframe tbody tr th:only-of-type {\n",
       "        vertical-align: middle;\n",
       "    }\n",
       "\n",
       "    .dataframe tbody tr th {\n",
       "        vertical-align: top;\n",
       "    }\n",
       "\n",
       "    .dataframe thead th {\n",
       "        text-align: right;\n",
       "    }\n",
       "</style>\n",
       "<table border=\"1\" class=\"dataframe\">\n",
       "  <thead>\n",
       "    <tr style=\"text-align: right;\">\n",
       "      <th></th>\n",
       "      <th>Marital status</th>\n",
       "      <th>Application mode</th>\n",
       "      <th>Application order</th>\n",
       "      <th>Course</th>\n",
       "      <th>Daytime/evening attendance</th>\n",
       "      <th>Previous qualification</th>\n",
       "      <th>Nacionality</th>\n",
       "      <th>Mother's qualification</th>\n",
       "      <th>Father's qualification</th>\n",
       "      <th>Mother's occupation</th>\n",
       "      <th>...</th>\n",
       "      <th>Curricular units 2nd sem (credited)</th>\n",
       "      <th>Curricular units 2nd sem (enrolled)</th>\n",
       "      <th>Curricular units 2nd sem (evaluations)</th>\n",
       "      <th>Curricular units 2nd sem (approved)</th>\n",
       "      <th>Curricular units 2nd sem (grade)</th>\n",
       "      <th>Curricular units 2nd sem (without evaluations)</th>\n",
       "      <th>Unemployment rate</th>\n",
       "      <th>Inflation rate</th>\n",
       "      <th>GDP</th>\n",
       "      <th>Target</th>\n",
       "    </tr>\n",
       "  </thead>\n",
       "  <tbody>\n",
       "    <tr>\n",
       "      <th>0</th>\n",
       "      <td>1</td>\n",
       "      <td>8</td>\n",
       "      <td>5</td>\n",
       "      <td>2</td>\n",
       "      <td>1</td>\n",
       "      <td>1</td>\n",
       "      <td>1</td>\n",
       "      <td>13</td>\n",
       "      <td>10</td>\n",
       "      <td>6</td>\n",
       "      <td>...</td>\n",
       "      <td>0</td>\n",
       "      <td>0</td>\n",
       "      <td>0</td>\n",
       "      <td>0</td>\n",
       "      <td>0.000000</td>\n",
       "      <td>0</td>\n",
       "      <td>10.8</td>\n",
       "      <td>1.4</td>\n",
       "      <td>1.74</td>\n",
       "      <td>Dropout</td>\n",
       "    </tr>\n",
       "    <tr>\n",
       "      <th>1</th>\n",
       "      <td>1</td>\n",
       "      <td>6</td>\n",
       "      <td>1</td>\n",
       "      <td>11</td>\n",
       "      <td>1</td>\n",
       "      <td>1</td>\n",
       "      <td>1</td>\n",
       "      <td>1</td>\n",
       "      <td>3</td>\n",
       "      <td>4</td>\n",
       "      <td>...</td>\n",
       "      <td>0</td>\n",
       "      <td>6</td>\n",
       "      <td>6</td>\n",
       "      <td>6</td>\n",
       "      <td>13.666667</td>\n",
       "      <td>0</td>\n",
       "      <td>13.9</td>\n",
       "      <td>-0.3</td>\n",
       "      <td>0.79</td>\n",
       "      <td>Graduate</td>\n",
       "    </tr>\n",
       "    <tr>\n",
       "      <th>2</th>\n",
       "      <td>1</td>\n",
       "      <td>1</td>\n",
       "      <td>5</td>\n",
       "      <td>5</td>\n",
       "      <td>1</td>\n",
       "      <td>1</td>\n",
       "      <td>1</td>\n",
       "      <td>22</td>\n",
       "      <td>27</td>\n",
       "      <td>10</td>\n",
       "      <td>...</td>\n",
       "      <td>0</td>\n",
       "      <td>6</td>\n",
       "      <td>0</td>\n",
       "      <td>0</td>\n",
       "      <td>0.000000</td>\n",
       "      <td>0</td>\n",
       "      <td>10.8</td>\n",
       "      <td>1.4</td>\n",
       "      <td>1.74</td>\n",
       "      <td>Dropout</td>\n",
       "    </tr>\n",
       "    <tr>\n",
       "      <th>3</th>\n",
       "      <td>1</td>\n",
       "      <td>8</td>\n",
       "      <td>2</td>\n",
       "      <td>15</td>\n",
       "      <td>1</td>\n",
       "      <td>1</td>\n",
       "      <td>1</td>\n",
       "      <td>23</td>\n",
       "      <td>27</td>\n",
       "      <td>6</td>\n",
       "      <td>...</td>\n",
       "      <td>0</td>\n",
       "      <td>6</td>\n",
       "      <td>10</td>\n",
       "      <td>5</td>\n",
       "      <td>12.400000</td>\n",
       "      <td>0</td>\n",
       "      <td>9.4</td>\n",
       "      <td>-0.8</td>\n",
       "      <td>-3.12</td>\n",
       "      <td>Graduate</td>\n",
       "    </tr>\n",
       "    <tr>\n",
       "      <th>4</th>\n",
       "      <td>2</td>\n",
       "      <td>12</td>\n",
       "      <td>1</td>\n",
       "      <td>3</td>\n",
       "      <td>0</td>\n",
       "      <td>1</td>\n",
       "      <td>1</td>\n",
       "      <td>22</td>\n",
       "      <td>28</td>\n",
       "      <td>10</td>\n",
       "      <td>...</td>\n",
       "      <td>0</td>\n",
       "      <td>6</td>\n",
       "      <td>6</td>\n",
       "      <td>6</td>\n",
       "      <td>13.000000</td>\n",
       "      <td>0</td>\n",
       "      <td>13.9</td>\n",
       "      <td>-0.3</td>\n",
       "      <td>0.79</td>\n",
       "      <td>Graduate</td>\n",
       "    </tr>\n",
       "  </tbody>\n",
       "</table>\n",
       "<p>5 rows × 35 columns</p>\n",
       "</div>"
      ],
      "text/plain": [
       "   Marital status  Application mode  Application order  Course  \\\n",
       "0               1                 8                  5       2   \n",
       "1               1                 6                  1      11   \n",
       "2               1                 1                  5       5   \n",
       "3               1                 8                  2      15   \n",
       "4               2                12                  1       3   \n",
       "\n",
       "   Daytime/evening attendance  Previous qualification  Nacionality  \\\n",
       "0                           1                       1            1   \n",
       "1                           1                       1            1   \n",
       "2                           1                       1            1   \n",
       "3                           1                       1            1   \n",
       "4                           0                       1            1   \n",
       "\n",
       "   Mother's qualification  Father's qualification  Mother's occupation  ...  \\\n",
       "0                      13                      10                    6  ...   \n",
       "1                       1                       3                    4  ...   \n",
       "2                      22                      27                   10  ...   \n",
       "3                      23                      27                    6  ...   \n",
       "4                      22                      28                   10  ...   \n",
       "\n",
       "   Curricular units 2nd sem (credited)  Curricular units 2nd sem (enrolled)  \\\n",
       "0                                    0                                    0   \n",
       "1                                    0                                    6   \n",
       "2                                    0                                    6   \n",
       "3                                    0                                    6   \n",
       "4                                    0                                    6   \n",
       "\n",
       "   Curricular units 2nd sem (evaluations)  \\\n",
       "0                                       0   \n",
       "1                                       6   \n",
       "2                                       0   \n",
       "3                                      10   \n",
       "4                                       6   \n",
       "\n",
       "   Curricular units 2nd sem (approved)  Curricular units 2nd sem (grade)  \\\n",
       "0                                    0                          0.000000   \n",
       "1                                    6                         13.666667   \n",
       "2                                    0                          0.000000   \n",
       "3                                    5                         12.400000   \n",
       "4                                    6                         13.000000   \n",
       "\n",
       "   Curricular units 2nd sem (without evaluations)  Unemployment rate  \\\n",
       "0                                               0               10.8   \n",
       "1                                               0               13.9   \n",
       "2                                               0               10.8   \n",
       "3                                               0                9.4   \n",
       "4                                               0               13.9   \n",
       "\n",
       "   Inflation rate   GDP    Target  \n",
       "0             1.4  1.74   Dropout  \n",
       "1            -0.3  0.79  Graduate  \n",
       "2             1.4  1.74   Dropout  \n",
       "3            -0.8 -3.12  Graduate  \n",
       "4            -0.3  0.79  Graduate  \n",
       "\n",
       "[5 rows x 35 columns]"
      ]
     },
     "execution_count": 9,
     "metadata": {},
     "output_type": "execute_result"
    }
   ],
   "source": [
    "# Filter the DataFrame to keep only 'Dropout' and 'Graduate' rows\n",
    "data = raw_data[raw_data['Target'].isin(['Dropout', 'Graduate'])]\n",
    "data.head()"
   ]
  },
  {
   "cell_type": "code",
   "execution_count": 10,
   "id": "5ef0d6a6",
   "metadata": {},
   "outputs": [],
   "source": [
    "# Drop columns\n",
    "\n",
    "data = data.drop(columns=['Daytime/evening attendance', 'Previous qualification', 'Nacionality', 'Application mode', 'Application order', 'Curricular units 1st sem (credited)', 'Curricular units 1st sem (enrolled)', 'Curricular units 1st sem (evaluations)', 'Curricular units 1st sem (approved)', 'Curricular units 1st sem (grade)', 'Curricular units 1st sem (without evaluations)', 'Curricular units 2nd sem (credited)', 'Curricular units 2nd sem (enrolled)', 'Curricular units 2nd sem (evaluations)', 'Curricular units 2nd sem (approved)', 'Curricular units 2nd sem (grade)', 'Curricular units 2nd sem (without evaluations)' ], axis=1)\n"
   ]
  },
  {
   "cell_type": "code",
   "execution_count": 11,
   "id": "e24fe850",
   "metadata": {},
   "outputs": [
    {
     "data": {
      "text/html": [
       "<div>\n",
       "<style scoped>\n",
       "    .dataframe tbody tr th:only-of-type {\n",
       "        vertical-align: middle;\n",
       "    }\n",
       "\n",
       "    .dataframe tbody tr th {\n",
       "        vertical-align: top;\n",
       "    }\n",
       "\n",
       "    .dataframe thead th {\n",
       "        text-align: right;\n",
       "    }\n",
       "</style>\n",
       "<table border=\"1\" class=\"dataframe\">\n",
       "  <thead>\n",
       "    <tr style=\"text-align: right;\">\n",
       "      <th></th>\n",
       "      <th>Marital status</th>\n",
       "      <th>Course</th>\n",
       "      <th>Mother's qualification</th>\n",
       "      <th>Father's qualification</th>\n",
       "      <th>Mother's occupation</th>\n",
       "      <th>Father's occupation</th>\n",
       "      <th>Displaced</th>\n",
       "      <th>Educational special needs</th>\n",
       "      <th>Debtor</th>\n",
       "      <th>Tuition fees up to date</th>\n",
       "      <th>Gender</th>\n",
       "      <th>Scholarship holder</th>\n",
       "      <th>Age at enrollment</th>\n",
       "      <th>International</th>\n",
       "      <th>Unemployment rate</th>\n",
       "      <th>Inflation rate</th>\n",
       "      <th>GDP</th>\n",
       "      <th>Target</th>\n",
       "    </tr>\n",
       "  </thead>\n",
       "  <tbody>\n",
       "    <tr>\n",
       "      <th>0</th>\n",
       "      <td>1</td>\n",
       "      <td>2</td>\n",
       "      <td>13</td>\n",
       "      <td>10</td>\n",
       "      <td>6</td>\n",
       "      <td>10</td>\n",
       "      <td>1</td>\n",
       "      <td>0</td>\n",
       "      <td>0</td>\n",
       "      <td>1</td>\n",
       "      <td>1</td>\n",
       "      <td>0</td>\n",
       "      <td>20</td>\n",
       "      <td>0</td>\n",
       "      <td>10.8</td>\n",
       "      <td>1.4</td>\n",
       "      <td>1.74</td>\n",
       "      <td>Dropout</td>\n",
       "    </tr>\n",
       "    <tr>\n",
       "      <th>1</th>\n",
       "      <td>1</td>\n",
       "      <td>11</td>\n",
       "      <td>1</td>\n",
       "      <td>3</td>\n",
       "      <td>4</td>\n",
       "      <td>4</td>\n",
       "      <td>1</td>\n",
       "      <td>0</td>\n",
       "      <td>0</td>\n",
       "      <td>0</td>\n",
       "      <td>1</td>\n",
       "      <td>0</td>\n",
       "      <td>19</td>\n",
       "      <td>0</td>\n",
       "      <td>13.9</td>\n",
       "      <td>-0.3</td>\n",
       "      <td>0.79</td>\n",
       "      <td>Graduate</td>\n",
       "    </tr>\n",
       "    <tr>\n",
       "      <th>2</th>\n",
       "      <td>1</td>\n",
       "      <td>5</td>\n",
       "      <td>22</td>\n",
       "      <td>27</td>\n",
       "      <td>10</td>\n",
       "      <td>10</td>\n",
       "      <td>1</td>\n",
       "      <td>0</td>\n",
       "      <td>0</td>\n",
       "      <td>0</td>\n",
       "      <td>1</td>\n",
       "      <td>0</td>\n",
       "      <td>19</td>\n",
       "      <td>0</td>\n",
       "      <td>10.8</td>\n",
       "      <td>1.4</td>\n",
       "      <td>1.74</td>\n",
       "      <td>Dropout</td>\n",
       "    </tr>\n",
       "    <tr>\n",
       "      <th>3</th>\n",
       "      <td>1</td>\n",
       "      <td>15</td>\n",
       "      <td>23</td>\n",
       "      <td>27</td>\n",
       "      <td>6</td>\n",
       "      <td>4</td>\n",
       "      <td>1</td>\n",
       "      <td>0</td>\n",
       "      <td>0</td>\n",
       "      <td>1</td>\n",
       "      <td>0</td>\n",
       "      <td>0</td>\n",
       "      <td>20</td>\n",
       "      <td>0</td>\n",
       "      <td>9.4</td>\n",
       "      <td>-0.8</td>\n",
       "      <td>-3.12</td>\n",
       "      <td>Graduate</td>\n",
       "    </tr>\n",
       "    <tr>\n",
       "      <th>4</th>\n",
       "      <td>2</td>\n",
       "      <td>3</td>\n",
       "      <td>22</td>\n",
       "      <td>28</td>\n",
       "      <td>10</td>\n",
       "      <td>10</td>\n",
       "      <td>0</td>\n",
       "      <td>0</td>\n",
       "      <td>0</td>\n",
       "      <td>1</td>\n",
       "      <td>0</td>\n",
       "      <td>0</td>\n",
       "      <td>45</td>\n",
       "      <td>0</td>\n",
       "      <td>13.9</td>\n",
       "      <td>-0.3</td>\n",
       "      <td>0.79</td>\n",
       "      <td>Graduate</td>\n",
       "    </tr>\n",
       "  </tbody>\n",
       "</table>\n",
       "</div>"
      ],
      "text/plain": [
       "   Marital status  Course  Mother's qualification  Father's qualification  \\\n",
       "0               1       2                      13                      10   \n",
       "1               1      11                       1                       3   \n",
       "2               1       5                      22                      27   \n",
       "3               1      15                      23                      27   \n",
       "4               2       3                      22                      28   \n",
       "\n",
       "   Mother's occupation  Father's occupation  Displaced  \\\n",
       "0                    6                   10          1   \n",
       "1                    4                    4          1   \n",
       "2                   10                   10          1   \n",
       "3                    6                    4          1   \n",
       "4                   10                   10          0   \n",
       "\n",
       "   Educational special needs  Debtor  Tuition fees up to date  Gender  \\\n",
       "0                          0       0                        1       1   \n",
       "1                          0       0                        0       1   \n",
       "2                          0       0                        0       1   \n",
       "3                          0       0                        1       0   \n",
       "4                          0       0                        1       0   \n",
       "\n",
       "   Scholarship holder  Age at enrollment  International  Unemployment rate  \\\n",
       "0                   0                 20              0               10.8   \n",
       "1                   0                 19              0               13.9   \n",
       "2                   0                 19              0               10.8   \n",
       "3                   0                 20              0                9.4   \n",
       "4                   0                 45              0               13.9   \n",
       "\n",
       "   Inflation rate   GDP    Target  \n",
       "0             1.4  1.74   Dropout  \n",
       "1            -0.3  0.79  Graduate  \n",
       "2             1.4  1.74   Dropout  \n",
       "3            -0.8 -3.12  Graduate  \n",
       "4            -0.3  0.79  Graduate  "
      ]
     },
     "execution_count": 11,
     "metadata": {},
     "output_type": "execute_result"
    }
   ],
   "source": [
    "data.head()"
   ]
  },
  {
   "cell_type": "markdown",
   "id": "2cc6409b",
   "metadata": {},
   "source": [
    "#### Summary Statistics"
   ]
  },
  {
   "cell_type": "code",
   "execution_count": 12,
   "id": "89a67881",
   "metadata": {},
   "outputs": [
    {
     "name": "stdout",
     "output_type": "stream",
     "text": [
      "      Age at enrollment     Course  Unemployment rate  Inflation rate  \\\n",
      "min           17.000000   1.000000           7.600000       -0.800000   \n",
      "max           70.000000  17.000000          16.200000        3.700000   \n",
      "mean          23.461157   9.935537          11.630358        1.231598   \n",
      "std            7.827994   4.340715           2.667652        1.384911   \n",
      "\n",
      "           GDP  \n",
      "min  -4.060000  \n",
      "max   3.510000  \n",
      "mean -0.009256  \n",
      "std   2.259986  \n"
     ]
    }
   ],
   "source": [
    "# Select continuous features\n",
    "continuous_features = data[[\n",
    "    'Age at enrollment',\n",
    "    'Course',\n",
    "    'Unemployment rate',\n",
    "    'Inflation rate',\n",
    "    'GDP'\n",
    "]]\n",
    "\n",
    "# Get statistics for each continuous feature\n",
    "statistics = continuous_features.describe()\n",
    "print(statistics.loc[['min', 'max', 'mean', 'std']])"
   ]
  },
  {
   "cell_type": "code",
   "execution_count": 13,
   "id": "d0e300bf",
   "metadata": {},
   "outputs": [
    {
     "data": {
      "image/png": "[encoded data removed]",
      "text/plain": [
       "<Figure size 432x288 with 1 Axes>"
      ]
     },
     "metadata": {},
     "output_type": "display_data"
    }
   ],
   "source": [
    "# Count the occurrences of each unique class \n",
    "count = []\n",
    "for target_value in data['Target'].unique():\n",
    "    count.append(data['Target'].tolist().count(target_value))\n",
    "\n",
    "# Create the pie chart\n",
    "plt.pie(count, labels=data['Target'].unique(), autopct=\"%.2f%%\", labeldistance=1., \n",
    "        wedgeprops={'linewidth': 1, 'edgecolor': 'white'}, textprops={'color': 'black', 'fontsize': 10})\n",
    "plt.title('College Students\\' Graduation and Dropout Rates')\n",
    "\n",
    "plt.show()"
   ]
  },
  {
   "cell_type": "markdown",
   "id": "be7d0c38",
   "metadata": {},
   "source": [
    "# Demographics"
   ]
  },
  {
   "cell_type": "code",
   "execution_count": 14,
   "id": "a05e9c2b",
   "metadata": {},
   "outputs": [
    {
     "data": {
      "image/png": "[encoded data removed]",
      "text/plain": [
       "<Figure size 432x288 with 1 Axes>"
      ]
     },
     "metadata": {
      "needs_background": "light"
     },
     "output_type": "display_data"
    }
   ],
   "source": [
    "sns.countplot(data=data, x='Gender', hue='Target', hue_order=['Dropout', 'Graduate'])\n",
    "\n",
    "plt.xticks(ticks=[0,1], labels=['Female','Male'])\n",
    "plt.ylabel('Number of Students')\n",
    "plt.show()"
   ]
  },
  {
   "cell_type": "markdown",
   "id": "1e7a2cfc",
   "metadata": {},
   "source": [
    "# International"
   ]
  },
  {
   "cell_type": "code",
   "execution_count": 15,
   "id": "a63db624",
   "metadata": {},
   "outputs": [
    {
     "data": {
      "image/png": "[encoded data removed]",
      "text/plain": [
       "<Figure size 432x288 with 1 Axes>"
      ]
     },
     "metadata": {
      "needs_background": "light"
     },
     "output_type": "display_data"
    }
   ],
   "source": [
    "sns.countplot(data=data, x='International', hue='Target', hue_order=['Dropout', 'Graduate'])\n",
    "\n",
    "plt.xticks(ticks=[0,1], labels=['No','Yes'])\n",
    "plt.ylabel('Number of Students')\n",
    "plt.show()"
   ]
  },
  {
   "cell_type": "markdown",
   "id": "e0551d10",
   "metadata": {},
   "source": [
    "# Courses"
   ]
  },
  {
   "cell_type": "code",
   "execution_count": 16,
   "id": "4b7f1f65",
   "metadata": {},
   "outputs": [
    {
     "data": {
      "image/png": "[encoded data removed]",
      "text/plain": [
       "<Figure size 432x288 with 1 Axes>"
      ]
     },
     "metadata": {
      "needs_background": "light"
     },
     "output_type": "display_data"
    }
   ],
   "source": [
    "student_course = data.groupby(['Course', 'Target']).size().reset_index().pivot(columns='Target', index='Course', values=0)\n",
    "\n",
    "# Rename the index of the DataFrame\n",
    "student_course = student_course.rename(index={1:'Biofuel Production Technologies',2:'Animation and Multimedia Design',3:'Social Service (Evening Attendance)',4:'Agronomy',5:'Communication Design',6:'Veterinary Nursing',7:'Informatics Engineering',8:'Equiniculture',9:'Management',10:'Social Service',11:'Tourism',12:'Nursing',13:'Oral Hygiene',14:'Advertising and Marketing Management',15:'Journalism and Communication',16:'Basic Education',17:'Management (Evening Attendance)'})\n",
    "\n",
    "student_course_total = student_course.sum(axis=1)\n",
    "student_course_sorted = student_course_total.sort_values(ascending=True)\n",
    "student_course.loc[student_course_sorted.index].plot(kind='barh', stacked=True)\n",
    "\n",
    "plt.xlabel('Number of Students')\n",
    "plt.show()"
   ]
  },
  {
   "cell_type": "markdown",
   "id": "6cd17582",
   "metadata": {},
   "source": [
    "### Preprocessing Data"
   ]
  },
  {
   "cell_type": "code",
   "execution_count": 17,
   "id": "8adfaf39",
   "metadata": {},
   "outputs": [],
   "source": [
    "y = data['Target']\n",
    "# Convert y column to 1/0\n",
    "y = (y == 'Graduate').astype(int)"
   ]
  },
  {
   "cell_type": "code",
   "execution_count": 18,
   "id": "5f8252e0",
   "metadata": {},
   "outputs": [
    {
     "data": {
      "text/plain": [
       "0       0\n",
       "1       1\n",
       "2       0\n",
       "3       1\n",
       "4       1\n",
       "       ..\n",
       "4419    1\n",
       "4420    0\n",
       "4421    0\n",
       "4422    1\n",
       "4423    1\n",
       "Name: Target, Length: 3630, dtype: int64"
      ]
     },
     "execution_count": 18,
     "metadata": {},
     "output_type": "execute_result"
    }
   ],
   "source": [
    "y"
   ]
  },
  {
   "cell_type": "code",
   "execution_count": 19,
   "id": "39fdb8cc",
   "metadata": {},
   "outputs": [],
   "source": [
    "X = data.drop('Target', axis=1)"
   ]
  },
  {
   "cell_type": "code",
   "execution_count": 20,
   "id": "062bbe11",
   "metadata": {},
   "outputs": [
    {
     "data": {
      "text/html": [
       "<div>\n",
       "<style scoped>\n",
       "    .dataframe tbody tr th:only-of-type {\n",
       "        vertical-align: middle;\n",
       "    }\n",
       "\n",
       "    .dataframe tbody tr th {\n",
       "        vertical-align: top;\n",
       "    }\n",
       "\n",
       "    .dataframe thead th {\n",
       "        text-align: right;\n",
       "    }\n",
       "</style>\n",
       "<table border=\"1\" class=\"dataframe\">\n",
       "  <thead>\n",
       "    <tr style=\"text-align: right;\">\n",
       "      <th></th>\n",
       "      <th>Marital status</th>\n",
       "      <th>Course</th>\n",
       "      <th>Mother's qualification</th>\n",
       "      <th>Father's qualification</th>\n",
       "      <th>Mother's occupation</th>\n",
       "      <th>Father's occupation</th>\n",
       "      <th>Displaced</th>\n",
       "      <th>Educational special needs</th>\n",
       "      <th>Debtor</th>\n",
       "      <th>Tuition fees up to date</th>\n",
       "      <th>Gender</th>\n",
       "      <th>Scholarship holder</th>\n",
       "      <th>Age at enrollment</th>\n",
       "      <th>International</th>\n",
       "      <th>Unemployment rate</th>\n",
       "      <th>Inflation rate</th>\n",
       "      <th>GDP</th>\n",
       "    </tr>\n",
       "  </thead>\n",
       "  <tbody>\n",
       "    <tr>\n",
       "      <th>0</th>\n",
       "      <td>1</td>\n",
       "      <td>2</td>\n",
       "      <td>13</td>\n",
       "      <td>10</td>\n",
       "      <td>6</td>\n",
       "      <td>10</td>\n",
       "      <td>1</td>\n",
       "      <td>0</td>\n",
       "      <td>0</td>\n",
       "      <td>1</td>\n",
       "      <td>1</td>\n",
       "      <td>0</td>\n",
       "      <td>20</td>\n",
       "      <td>0</td>\n",
       "      <td>10.8</td>\n",
       "      <td>1.4</td>\n",
       "      <td>1.74</td>\n",
       "    </tr>\n",
       "    <tr>\n",
       "      <th>1</th>\n",
       "      <td>1</td>\n",
       "      <td>11</td>\n",
       "      <td>1</td>\n",
       "      <td>3</td>\n",
       "      <td>4</td>\n",
       "      <td>4</td>\n",
       "      <td>1</td>\n",
       "      <td>0</td>\n",
       "      <td>0</td>\n",
       "      <td>0</td>\n",
       "      <td>1</td>\n",
       "      <td>0</td>\n",
       "      <td>19</td>\n",
       "      <td>0</td>\n",
       "      <td>13.9</td>\n",
       "      <td>-0.3</td>\n",
       "      <td>0.79</td>\n",
       "    </tr>\n",
       "    <tr>\n",
       "      <th>2</th>\n",
       "      <td>1</td>\n",
       "      <td>5</td>\n",
       "      <td>22</td>\n",
       "      <td>27</td>\n",
       "      <td>10</td>\n",
       "      <td>10</td>\n",
       "      <td>1</td>\n",
       "      <td>0</td>\n",
       "      <td>0</td>\n",
       "      <td>0</td>\n",
       "      <td>1</td>\n",
       "      <td>0</td>\n",
       "      <td>19</td>\n",
       "      <td>0</td>\n",
       "      <td>10.8</td>\n",
       "      <td>1.4</td>\n",
       "      <td>1.74</td>\n",
       "    </tr>\n",
       "    <tr>\n",
       "      <th>3</th>\n",
       "      <td>1</td>\n",
       "      <td>15</td>\n",
       "      <td>23</td>\n",
       "      <td>27</td>\n",
       "      <td>6</td>\n",
       "      <td>4</td>\n",
       "      <td>1</td>\n",
       "      <td>0</td>\n",
       "      <td>0</td>\n",
       "      <td>1</td>\n",
       "      <td>0</td>\n",
       "      <td>0</td>\n",
       "      <td>20</td>\n",
       "      <td>0</td>\n",
       "      <td>9.4</td>\n",
       "      <td>-0.8</td>\n",
       "      <td>-3.12</td>\n",
       "    </tr>\n",
       "    <tr>\n",
       "      <th>4</th>\n",
       "      <td>2</td>\n",
       "      <td>3</td>\n",
       "      <td>22</td>\n",
       "      <td>28</td>\n",
       "      <td>10</td>\n",
       "      <td>10</td>\n",
       "      <td>0</td>\n",
       "      <td>0</td>\n",
       "      <td>0</td>\n",
       "      <td>1</td>\n",
       "      <td>0</td>\n",
       "      <td>0</td>\n",
       "      <td>45</td>\n",
       "      <td>0</td>\n",
       "      <td>13.9</td>\n",
       "      <td>-0.3</td>\n",
       "      <td>0.79</td>\n",
       "    </tr>\n",
       "    <tr>\n",
       "      <th>...</th>\n",
       "      <td>...</td>\n",
       "      <td>...</td>\n",
       "      <td>...</td>\n",
       "      <td>...</td>\n",
       "      <td>...</td>\n",
       "      <td>...</td>\n",
       "      <td>...</td>\n",
       "      <td>...</td>\n",
       "      <td>...</td>\n",
       "      <td>...</td>\n",
       "      <td>...</td>\n",
       "      <td>...</td>\n",
       "      <td>...</td>\n",
       "      <td>...</td>\n",
       "      <td>...</td>\n",
       "      <td>...</td>\n",
       "      <td>...</td>\n",
       "    </tr>\n",
       "    <tr>\n",
       "      <th>4419</th>\n",
       "      <td>1</td>\n",
       "      <td>15</td>\n",
       "      <td>1</td>\n",
       "      <td>1</td>\n",
       "      <td>6</td>\n",
       "      <td>5</td>\n",
       "      <td>0</td>\n",
       "      <td>0</td>\n",
       "      <td>0</td>\n",
       "      <td>1</td>\n",
       "      <td>1</td>\n",
       "      <td>0</td>\n",
       "      <td>19</td>\n",
       "      <td>0</td>\n",
       "      <td>15.5</td>\n",
       "      <td>2.8</td>\n",
       "      <td>-4.06</td>\n",
       "    </tr>\n",
       "    <tr>\n",
       "      <th>4420</th>\n",
       "      <td>1</td>\n",
       "      <td>15</td>\n",
       "      <td>1</td>\n",
       "      <td>1</td>\n",
       "      <td>10</td>\n",
       "      <td>10</td>\n",
       "      <td>1</td>\n",
       "      <td>0</td>\n",
       "      <td>1</td>\n",
       "      <td>0</td>\n",
       "      <td>0</td>\n",
       "      <td>0</td>\n",
       "      <td>18</td>\n",
       "      <td>1</td>\n",
       "      <td>11.1</td>\n",
       "      <td>0.6</td>\n",
       "      <td>2.02</td>\n",
       "    </tr>\n",
       "    <tr>\n",
       "      <th>4421</th>\n",
       "      <td>1</td>\n",
       "      <td>12</td>\n",
       "      <td>22</td>\n",
       "      <td>27</td>\n",
       "      <td>10</td>\n",
       "      <td>10</td>\n",
       "      <td>1</td>\n",
       "      <td>0</td>\n",
       "      <td>0</td>\n",
       "      <td>1</td>\n",
       "      <td>0</td>\n",
       "      <td>1</td>\n",
       "      <td>30</td>\n",
       "      <td>0</td>\n",
       "      <td>13.9</td>\n",
       "      <td>-0.3</td>\n",
       "      <td>0.79</td>\n",
       "    </tr>\n",
       "    <tr>\n",
       "      <th>4422</th>\n",
       "      <td>1</td>\n",
       "      <td>9</td>\n",
       "      <td>22</td>\n",
       "      <td>27</td>\n",
       "      <td>8</td>\n",
       "      <td>5</td>\n",
       "      <td>1</td>\n",
       "      <td>0</td>\n",
       "      <td>0</td>\n",
       "      <td>1</td>\n",
       "      <td>0</td>\n",
       "      <td>1</td>\n",
       "      <td>20</td>\n",
       "      <td>0</td>\n",
       "      <td>9.4</td>\n",
       "      <td>-0.8</td>\n",
       "      <td>-3.12</td>\n",
       "    </tr>\n",
       "    <tr>\n",
       "      <th>4423</th>\n",
       "      <td>1</td>\n",
       "      <td>15</td>\n",
       "      <td>23</td>\n",
       "      <td>27</td>\n",
       "      <td>6</td>\n",
       "      <td>10</td>\n",
       "      <td>1</td>\n",
       "      <td>0</td>\n",
       "      <td>0</td>\n",
       "      <td>1</td>\n",
       "      <td>0</td>\n",
       "      <td>0</td>\n",
       "      <td>22</td>\n",
       "      <td>1</td>\n",
       "      <td>12.7</td>\n",
       "      <td>3.7</td>\n",
       "      <td>-1.70</td>\n",
       "    </tr>\n",
       "  </tbody>\n",
       "</table>\n",
       "<p>3630 rows × 17 columns</p>\n",
       "</div>"
      ],
      "text/plain": [
       "      Marital status  Course  Mother's qualification  Father's qualification  \\\n",
       "0                  1       2                      13                      10   \n",
       "1                  1      11                       1                       3   \n",
       "2                  1       5                      22                      27   \n",
       "3                  1      15                      23                      27   \n",
       "4                  2       3                      22                      28   \n",
       "...              ...     ...                     ...                     ...   \n",
       "4419               1      15                       1                       1   \n",
       "4420               1      15                       1                       1   \n",
       "4421               1      12                      22                      27   \n",
       "4422               1       9                      22                      27   \n",
       "4423               1      15                      23                      27   \n",
       "\n",
       "      Mother's occupation  Father's occupation  Displaced  \\\n",
       "0                       6                   10          1   \n",
       "1                       4                    4          1   \n",
       "2                      10                   10          1   \n",
       "3                       6                    4          1   \n",
       "4                      10                   10          0   \n",
       "...                   ...                  ...        ...   \n",
       "4419                    6                    5          0   \n",
       "4420                   10                   10          1   \n",
       "4421                   10                   10          1   \n",
       "4422                    8                    5          1   \n",
       "4423                    6                   10          1   \n",
       "\n",
       "      Educational special needs  Debtor  Tuition fees up to date  Gender  \\\n",
       "0                             0       0                        1       1   \n",
       "1                             0       0                        0       1   \n",
       "2                             0       0                        0       1   \n",
       "3                             0       0                        1       0   \n",
       "4                             0       0                        1       0   \n",
       "...                         ...     ...                      ...     ...   \n",
       "4419                          0       0                        1       1   \n",
       "4420                          0       1                        0       0   \n",
       "4421                          0       0                        1       0   \n",
       "4422                          0       0                        1       0   \n",
       "4423                          0       0                        1       0   \n",
       "\n",
       "      Scholarship holder  Age at enrollment  International  Unemployment rate  \\\n",
       "0                      0                 20              0               10.8   \n",
       "1                      0                 19              0               13.9   \n",
       "2                      0                 19              0               10.8   \n",
       "3                      0                 20              0                9.4   \n",
       "4                      0                 45              0               13.9   \n",
       "...                  ...                ...            ...                ...   \n",
       "4419                   0                 19              0               15.5   \n",
       "4420                   0                 18              1               11.1   \n",
       "4421                   1                 30              0               13.9   \n",
       "4422                   1                 20              0                9.4   \n",
       "4423                   0                 22              1               12.7   \n",
       "\n",
       "      Inflation rate   GDP  \n",
       "0                1.4  1.74  \n",
       "1               -0.3  0.79  \n",
       "2                1.4  1.74  \n",
       "3               -0.8 -3.12  \n",
       "4               -0.3  0.79  \n",
       "...              ...   ...  \n",
       "4419             2.8 -4.06  \n",
       "4420             0.6  2.02  \n",
       "4421            -0.3  0.79  \n",
       "4422            -0.8 -3.12  \n",
       "4423             3.7 -1.70  \n",
       "\n",
       "[3630 rows x 17 columns]"
      ]
     },
     "execution_count": 20,
     "metadata": {},
     "output_type": "execute_result"
    }
   ],
   "source": [
    "X"
   ]
  },
  {
   "cell_type": "markdown",
   "id": "6bdb242a",
   "metadata": {},
   "source": [
    "# Evaluation Metrics"
   ]
  },
  {
   "cell_type": "code",
   "execution_count": 21,
   "id": "a6f27464",
   "metadata": {},
   "outputs": [],
   "source": [
    "def display_confusion_matrix(tp, fp, tn, fn) -> None:\n",
    "    print('\\t\\t |  Predicted Positive  |  Predicted Negative  |')\n",
    "    print('-'*64)\n",
    "    print(f'Actual Positive  |\\t      {tp}      \\t|\\t    {fn}\\t       |')\n",
    "    print(f'Actual Negative  |\\t      {fp}      \\t|\\t    {tn}\\t       |')\n",
    "    print('-'*64)\n",
    "    print(f'Accuracy: {accuracy(tp, fp, tn, fn)}')\n",
    "    print(f'Recall: {recall(tp, fp, tn, fn)}')\n",
    "    print(f'Precision: {precision(tp, fp, tn, fn)}')\n",
    "    print(f'F1: {f1score(tp, fp, tn, fn)}')"
   ]
  },
  {
   "cell_type": "code",
   "execution_count": 22,
   "id": "e6e3d76d",
   "metadata": {},
   "outputs": [],
   "source": [
    "def calculate_metrics(actual_y, preds_y) -> None:\n",
    "    tp = sum((preds_y == 1) & (actual_y == 1)) \n",
    "    fp = sum((preds_y == 1) & (actual_y == 0)) \n",
    "    fn = sum((preds_y == 0) & (actual_y == 1)) \n",
    "    tn = sum((preds_y == 0) & (actual_y == 0)) \n",
    "    display_confusion_matrix(tp, fp, tn, fn)"
   ]
  },
  {
   "cell_type": "code",
   "execution_count": 23,
   "id": "0e2da50a",
   "metadata": {},
   "outputs": [],
   "source": [
    "def accuracy(tp: int, fp: int, tn: int, fn: int) -> float:\n",
    "    return (tp + tn) / (tp + tn + fp + fn)"
   ]
  },
  {
   "cell_type": "code",
   "execution_count": 24,
   "id": "7e429266",
   "metadata": {},
   "outputs": [],
   "source": [
    "def recall(tp: int, fp: int, tn: int, fn: int) -> float:\n",
    "    if tp + fn == 0:\n",
    "        return np.nan \n",
    "    return tp / (tp + fn) "
   ]
  },
  {
   "cell_type": "code",
   "execution_count": 25,
   "id": "d4ac1062",
   "metadata": {},
   "outputs": [],
   "source": [
    "def precision(tp: int, fp: int, tn: int, fn: int) -> float:\n",
    "    if tp + fp == 0:\n",
    "        return np.nan \n",
    "    return tp / (tp + fp)"
   ]
  },
  {
   "cell_type": "code",
   "execution_count": 26,
   "id": "80f7af69",
   "metadata": {},
   "outputs": [],
   "source": [
    "def f1score(tp: int, fp: int, tn: int, fn: int) -> float:\n",
    "    p = precision(tp, fp, tn, fn)\n",
    "    r = recall(tp, fp, tn, fn)\n",
    "    if p == np.nan or r == np.nan:\n",
    "        return np.nan \n",
    "    return 2 * (p * r) / (p + r)"
   ]
  },
  {
   "cell_type": "code",
   "execution_count": 27,
   "id": "7a7fe229",
   "metadata": {},
   "outputs": [],
   "source": [
    "def perform_cross_validation(model_name, model_preds, y_test, model):\n",
    "    # perform 5-fold cross-validation\n",
    "    cv_scores = cross_val_score(model, X_test, y_test, cv=5)\n",
    "    mean_cv_score = cv_scores.mean()\n",
    "    print(f\"{model_name} - Cross-Validation Scores:\", cv_scores)\n",
    "    print(f\"{model_name} - Mean CV Score:\", mean_cv_score)\n",
    "    print()\n",
    "    return mean_cv_score"
   ]
  },
  {
   "cell_type": "code",
   "execution_count": 28,
   "id": "321c3ed8",
   "metadata": {},
   "outputs": [],
   "source": [
    "def plot_learning_curve(model, X, y, train_sizes=np.linspace(0.1, 1.0, 10), cv=5, scoring='accuracy'):\n",
    "    # generate learning curve data\n",
    "    train_sizes_abs, train_scores, validation_scores = learning_curve(model, X, y, train_sizes=train_sizes, cv=cv, scoring=scoring)\n",
    "\n",
    "    # calculate mean and standard deviation of scores\n",
    "    train_mean = np.mean(train_scores, axis=1)\n",
    "    train_std = np.std(train_scores, axis=1)\n",
    "    validation_mean = np.mean(validation_scores, axis=1)\n",
    "    validation_std = np.std(validation_scores, axis=1)\n",
    "\n",
    "    print(\"Training Scores:\")\n",
    "    print(train_scores)\n",
    "    print(\"Validation Scores:\")\n",
    "    print(validation_scores)\n",
    "\n",
    "    # plot learning curves\n",
    "    plt.figure(figsize=(8, 6))\n",
    "    plt.plot(train_sizes_abs, train_mean, label='Training Score', marker='o')\n",
    "    plt.fill_between(train_sizes_abs, train_mean - train_std, train_mean + train_std, alpha=0.2)\n",
    "    plt.plot(train_sizes_abs, validation_mean, label='Validation Score', marker='o')\n",
    "    plt.fill_between(train_sizes_abs, validation_mean - validation_std, validation_mean + validation_std, alpha=0.2)\n",
    "    \n",
    "    plt.ylim(0, 1.1)\n",
    "    plt.xlabel('Training Set Size')\n",
    "    plt.ylabel('Score')\n",
    "    plt.title('Learning Curves')\n",
    "    plt.legend()\n",
    "    plt.grid(True)\n",
    "    plt.show()\n"
   ]
  },
  {
   "cell_type": "markdown",
   "id": "5b28b03c",
   "metadata": {},
   "source": [
    "- If there is a gap between the training and validation scores, it suggests the model may be overfitting. A larger gap indicates higher overfitting.\n",
    "- If both the training and validation scores are low and close to each other, it suggests the model may be underfitting. The model may require more data or a more complex model to perform better.\n"
   ]
  },
  {
   "cell_type": "markdown",
   "id": "a123c58c",
   "metadata": {},
   "source": [
    "## Train and Test Sets"
   ]
  },
  {
   "cell_type": "code",
   "execution_count": 29,
   "id": "30cf2016",
   "metadata": {},
   "outputs": [],
   "source": [
    "# Encode data if needed before split for train and test sets"
   ]
  },
  {
   "cell_type": "code",
   "execution_count": 30,
   "id": "f265fa8e",
   "metadata": {},
   "outputs": [],
   "source": [
    "X_train, X_test, y_train, y_test = train_test_split(X, y, test_size=0.2, random_state=42)"
   ]
  },
  {
   "cell_type": "markdown",
   "id": "ff96c87c",
   "metadata": {},
   "source": [
    "# Fit Models"
   ]
  },
  {
   "cell_type": "code",
   "execution_count": 31,
   "id": "67bfb813",
   "metadata": {},
   "outputs": [],
   "source": [
    "class DummyEstimator(BaseEstimator, ClassifierMixin):\n",
    "    def fit(self, X, y=None):\n",
    "        # Calculate the majority class during the fitting process\n",
    "        if y is not None:\n",
    "            self.majority_class_ = y.value_counts().idxmax()\n",
    "        return self\n",
    "\n",
    "    def predict(self, X):\n",
    "        # Use the majority class to create predictions for the test data\n",
    "        return np.repeat(self.majority_class_, len(X))\n",
    "\n",
    "    def score(self, X, y):\n",
    "        return 0  "
   ]
  },
  {
   "cell_type": "code",
   "execution_count": 32,
   "id": "58737242",
   "metadata": {},
   "outputs": [],
   "source": [
    "# Random guess: create predictions for the test set based on the majority class in the training set\n",
    "def pred_majority_class(X_test: pd.DataFrame, y_train: pd.DataFrame):\n",
    "    majority_class = y_train.value_counts().idxmax()\n",
    "    return np.repeat(majority_class, X_test.shape[0])"
   ]
  },
  {
   "cell_type": "code",
   "execution_count": 33,
   "id": "eef538dd",
   "metadata": {},
   "outputs": [
    {
     "data": {
      "text/plain": [
       "GaussianNB()"
      ]
     },
     "execution_count": 33,
     "metadata": {},
     "output_type": "execute_result"
    }
   ],
   "source": [
    "nb_mdl = GaussianNB()\n",
    "nb_mdl.fit(X_train, y_train)"
   ]
  },
  {
   "cell_type": "code",
   "execution_count": 34,
   "id": "19ba7f76",
   "metadata": {},
   "outputs": [
    {
     "data": {
      "text/plain": [
       "DecisionTreeClassifier(random_state=2222)"
      ]
     },
     "execution_count": 34,
     "metadata": {},
     "output_type": "execute_result"
    }
   ],
   "source": [
    "dt_mdl = DecisionTreeClassifier(random_state=2222)\n",
    "dt_mdl.fit(X_train, y_train)"
   ]
  },
  {
   "cell_type": "code",
   "execution_count": 35,
   "id": "aabe85c2",
   "metadata": {},
   "outputs": [
    {
     "data": {
      "text/plain": [
       "RandomForestClassifier(random_state=53)"
      ]
     },
     "execution_count": 35,
     "metadata": {},
     "output_type": "execute_result"
    }
   ],
   "source": [
    "rf_mdl = RandomForestClassifier(random_state=53)\n",
    "rf_mdl.fit(X_train, y_train)"
   ]
  },
  {
   "cell_type": "code",
   "execution_count": 36,
   "id": "4ee12391",
   "metadata": {},
   "outputs": [
    {
     "data": {
      "text/plain": [
       "LogisticRegression(random_state=0, solver='liblinear')"
      ]
     },
     "execution_count": 36,
     "metadata": {},
     "output_type": "execute_result"
    }
   ],
   "source": [
    "logreg_mdl = LogisticRegression(random_state=0, solver='liblinear')\n",
    "logreg_mdl.fit(X_train, y_train)"
   ]
  },
  {
   "cell_type": "code",
   "execution_count": 37,
   "id": "d9ef0fb0",
   "metadata": {},
   "outputs": [
    {
     "data": {
      "image/png": "[encoded data removed]",
      "text/plain": [
       "<Figure size 576x432 with 1 Axes>"
      ]
     },
     "metadata": {
      "needs_background": "light"
     },
     "output_type": "display_data"
    },
    {
     "name": "stdout",
     "output_type": "stream",
     "text": [
      "Best k value: 9\n"
     ]
    }
   ],
   "source": [
    "knn_mdl = KNeighborsClassifier()\n",
    "param_grid = {'n_neighbors': [1, 3, 5, 7, 9]}\n",
    "\n",
    "# grid search with 5-fold cross-validation\n",
    "grid_search = GridSearchCV(knn_mdl, param_grid, cv=5)\n",
    "grid_search.fit(X_train, y_train)\n",
    "\n",
    "# cross-validation results\n",
    "results = pd.DataFrame(grid_search.cv_results_)\n",
    "\n",
    "k_values = results['param_n_neighbors'].astype(int)\n",
    "mean_test_scores = results['mean_test_score']\n",
    "\n",
    "# Show the mean test scores for each k value\n",
    "plt.figure(figsize=(8, 6))\n",
    "plt.plot(k_values, mean_test_scores, marker='o')\n",
    "plt.xlabel('k (Number of Neighbors)')\n",
    "plt.ylabel('Mean Test Score')\n",
    "plt.title('Mean Test Score vs. Number of Neighbors (k)')\n",
    "plt.grid(True)\n",
    "plt.show()\n",
    "\n",
    "# get the best k \n",
    "best_k = grid_search.best_params_['n_neighbors']\n",
    "print(\"Best k value:\", best_k)"
   ]
  },
  {
   "cell_type": "code",
   "execution_count": 38,
   "id": "9d7d660c",
   "metadata": {},
   "outputs": [
    {
     "data": {
      "text/plain": [
       "KNeighborsClassifier(n_neighbors=9)"
      ]
     },
     "execution_count": 38,
     "metadata": {},
     "output_type": "execute_result"
    }
   ],
   "source": [
    "knn_mdl = KNeighborsClassifier(n_neighbors=best_k)\n",
    "knn_mdl.fit(X_train, y_train)"
   ]
  },
  {
   "cell_type": "markdown",
   "id": "b7921860",
   "metadata": {},
   "source": [
    "# Evaluate Models"
   ]
  },
  {
   "cell_type": "code",
   "execution_count": 39,
   "id": "bd4dd788",
   "metadata": {},
   "outputs": [],
   "source": [
    "random_guess_preds = pred_majority_class(X_test, y_train)\n",
    "naive_bayes_preds = nb_mdl.predict(X_test)\n",
    "decision_tree_preds = dt_mdl.predict(X_test)\n",
    "random_forest_preds = rf_mdl.predict(X_test)\n",
    "logistic_regression_preds = logreg_mdl.predict(X_test)\n",
    "knn_preds = knn_mdl.predict(X_test)"
   ]
  },
  {
   "cell_type": "code",
   "execution_count": 40,
   "id": "788552a6",
   "metadata": {},
   "outputs": [
    {
     "name": "stdout",
     "output_type": "stream",
     "text": [
      "Random Guess:\n",
      "\t\t |  Predicted Positive  |  Predicted Negative  |\n",
      "----------------------------------------------------------------\n",
      "Actual Positive  |\t      449      \t|\t    0\t       |\n",
      "Actual Negative  |\t      277      \t|\t    0\t       |\n",
      "----------------------------------------------------------------\n",
      "Accuracy: 0.6184573002754821\n",
      "Recall: 1.0\n",
      "Precision: 0.6184573002754821\n",
      "F1: 0.7642553191489362\n",
      "----------------------------------------------------------------\n",
      "Training Scores:\n",
      "[[0.62931034 0.60775862 0.60775862 0.60775862 0.60775862]\n",
      " [0.62284483 0.59482759 0.59482759 0.59482759 0.59482759]\n",
      " [0.61494253 0.61494253 0.60632184 0.60632184 0.60632184]\n",
      " [0.61571582 0.61571582 0.61679225 0.61679225 0.61679225]\n",
      " [0.60551249 0.60551249 0.60637382 0.61412575 0.61412575]\n",
      " [0.60014358 0.60014358 0.60014358 0.6137832  0.6137832 ]\n",
      " [0.60639606 0.60639606 0.60639606 0.60701107 0.60701107]\n",
      " [0.60925727 0.60925727 0.60925727 0.60925727 0.60010764]\n",
      " [0.60861244 0.60861244 0.60861244 0.60861244 0.6062201 ]\n",
      " [0.60611279 0.60611279 0.60611279 0.60611279 0.60611279]]\n",
      "Validation Scores:\n",
      "[[0.60585198 0.60585198 0.60585198 0.60585198 0.60689655]\n",
      " [0.60585198 0.60585198 0.60585198 0.60585198 0.60689655]\n",
      " [0.60585198 0.60585198 0.60585198 0.60585198 0.60689655]\n",
      " [0.60585198 0.60585198 0.60585198 0.60585198 0.60689655]\n",
      " [0.60585198 0.60585198 0.60585198 0.60585198 0.60689655]\n",
      " [0.60585198 0.60585198 0.60585198 0.60585198 0.60689655]\n",
      " [0.60585198 0.60585198 0.60585198 0.60585198 0.60689655]\n",
      " [0.60585198 0.60585198 0.60585198 0.60585198 0.60689655]\n",
      " [0.60585198 0.60585198 0.60585198 0.60585198 0.60689655]\n",
      " [0.60585198 0.60585198 0.60585198 0.60585198 0.60689655]]\n"
     ]
    },
    {
     "data": {
      "image/png": "[encoded data removed]",
      "text/plain": [
       "<Figure size 576x432 with 1 Axes>"
      ]
     },
     "metadata": {
      "needs_background": "light"
     },
     "output_type": "display_data"
    }
   ],
   "source": [
    "print(\"Random Guess:\")\n",
    "calculate_metrics(y_test, random_guess_preds)\n",
    "print(\"----------------------------------------------------------------\")\n",
    "plot_learning_curve(DummyEstimator(), X_train, y_train, train_sizes=np.linspace(0.1, 1.0, 10), cv=5, scoring='accuracy')"
   ]
  },
  {
   "cell_type": "code",
   "execution_count": 41,
   "id": "75136f37",
   "metadata": {},
   "outputs": [
    {
     "name": "stdout",
     "output_type": "stream",
     "text": [
      "Naive Bayes:\n",
      "\t\t |  Predicted Positive  |  Predicted Negative  |\n",
      "----------------------------------------------------------------\n",
      "Actual Positive  |\t      402      \t|\t    47\t       |\n",
      "Actual Negative  |\t      146      \t|\t    131\t       |\n",
      "----------------------------------------------------------------\n",
      "Accuracy: 0.7341597796143251\n",
      "Recall: 0.8953229398663697\n",
      "Precision: 0.7335766423357665\n",
      "F1: 0.8064192577733199\n",
      "----------------------------------------------------------------\n",
      "Training Scores:\n",
      "[[0.75862069 0.74137931 0.74137931 0.74137931 0.74137931]\n",
      " [0.7262931  0.70474138 0.70474138 0.70474138 0.70474138]\n",
      " [0.71408046 0.73275862 0.72701149 0.72701149 0.72701149]\n",
      " [0.71797632 0.73519914 0.71582347 0.71582347 0.71582347]\n",
      " [0.72351421 0.73901809 0.71231697 0.71748493 0.71748493]\n",
      " [0.72290022 0.73223259 0.71069634 0.72505384 0.72505384]\n",
      " [0.7201722  0.72755228 0.70787208 0.7195572  0.7195572 ]\n",
      " [0.7212056  0.72335845 0.71259419 0.72658773 0.72658773]\n",
      " [0.72248804 0.72679426 0.71291866 0.72822967 0.72248804]\n",
      " [0.72406371 0.72750753 0.71674559 0.72750753 0.7184675 ]]\n",
      "Validation Scores:\n",
      "[[0.70567986 0.71600688 0.72633391 0.73149742 0.74655172]\n",
      " [0.70051635 0.71772806 0.72805508 0.71084337 0.73103448]\n",
      " [0.71256454 0.71084337 0.74354561 0.71256454 0.73793103]\n",
      " [0.72633391 0.71256454 0.72633391 0.71084337 0.72413793]\n",
      " [0.72633391 0.71256454 0.72633391 0.70567986 0.73275862]\n",
      " [0.71600688 0.71600688 0.72289157 0.7091222  0.73965517]\n",
      " [0.71256454 0.71428571 0.72633391 0.71428571 0.73793103]\n",
      " [0.70567986 0.71600688 0.71772806 0.71428571 0.74137931]\n",
      " [0.71600688 0.71428571 0.72805508 0.71428571 0.74310345]\n",
      " [0.71600688 0.71428571 0.72633391 0.71428571 0.73965517]]\n"
     ]
    },
    {
     "data": {
      "image/png": "[encoded data removed]",
      "text/plain": [
       "<Figure size 576x432 with 1 Axes>"
      ]
     },
     "metadata": {
      "needs_background": "light"
     },
     "output_type": "display_data"
    }
   ],
   "source": [
    "print(\"Naive Bayes:\")\n",
    "calculate_metrics(y_test, naive_bayes_preds)\n",
    "print(\"----------------------------------------------------------------\")\n",
    "plot_learning_curve(nb_mdl, X_train, y_train, train_sizes=np.linspace(0.1, 1.0, 10), cv=5, scoring='accuracy')"
   ]
  },
  {
   "cell_type": "code",
   "execution_count": 42,
   "id": "2641c120",
   "metadata": {},
   "outputs": [
    {
     "name": "stdout",
     "output_type": "stream",
     "text": [
      "Decsion Tree:\n",
      "\t\t |  Predicted Positive  |  Predicted Negative  |\n",
      "----------------------------------------------------------------\n",
      "Actual Positive  |\t      343      \t|\t    106\t       |\n",
      "Actual Negative  |\t      118      \t|\t    159\t       |\n",
      "----------------------------------------------------------------\n",
      "Accuracy: 0.6914600550964187\n",
      "Recall: 0.7639198218262806\n",
      "Precision: 0.7440347071583514\n",
      "F1: 0.7538461538461539\n",
      "----------------------------------------------------------------\n",
      "Training Scores:\n",
      "[[1.         1.         1.         1.         1.        ]\n",
      " [1.         1.         1.         1.         1.        ]\n",
      " [1.         1.         1.         1.         1.        ]\n",
      " [1.         1.         1.         1.         1.        ]\n",
      " [1.         0.99913867 1.         1.         1.        ]\n",
      " [1.         0.99928212 1.         1.         1.        ]\n",
      " [0.99938499 0.99876999 1.         1.         1.        ]\n",
      " [0.99946179 0.99892357 1.         0.99946179 0.99946179]\n",
      " [0.99952153 0.99904306 1.         0.99952153 0.99952153]\n",
      " [0.99956952 0.99913904 1.         0.99956952 0.99913904]]\n",
      "Validation Scores:\n",
      "[[0.6919105  0.67641997 0.66609294 0.69018933 0.68965517]\n",
      " [0.67814114 0.69535284 0.7091222  0.67641997 0.68448276]\n",
      " [0.69363167 0.69879518 0.6746988  0.65920826 0.7137931 ]\n",
      " [0.64199656 0.66609294 0.68502582 0.69018933 0.68103448]\n",
      " [0.68330465 0.67125645 0.69535284 0.67297762 0.69310345]\n",
      " [0.68158348 0.67297762 0.68330465 0.68330465 0.70344828]\n",
      " [0.67986231 0.65748709 0.65920826 0.69018933 0.73275862]\n",
      " [0.67297762 0.68674699 0.69363167 0.6919105  0.7       ]\n",
      " [0.69018933 0.68158348 0.70395869 0.66437177 0.68275862]\n",
      " [0.7091222  0.67641997 0.71084337 0.67814114 0.70172414]]\n"
     ]
    },
    {
     "data": {
      "image/png": "[encoded data removed]",
      "text/plain": [
       "<Figure size 576x432 with 1 Axes>"
      ]
     },
     "metadata": {
      "needs_background": "light"
     },
     "output_type": "display_data"
    }
   ],
   "source": [
    "print(\"Decsion Tree:\")\n",
    "calculate_metrics(y_test, decision_tree_preds)\n",
    "print(\"----------------------------------------------------------------\")\n",
    "plot_learning_curve(dt_mdl, X_train, y_train, train_sizes=np.linspace(0.1, 1.0, 10), cv=5, scoring='accuracy')"
   ]
  },
  {
   "cell_type": "code",
   "execution_count": 43,
   "id": "1e89a5c5",
   "metadata": {},
   "outputs": [
    {
     "name": "stdout",
     "output_type": "stream",
     "text": [
      "Random Forest:\n",
      "\t\t |  Predicted Positive  |  Predicted Negative  |\n",
      "----------------------------------------------------------------\n",
      "Actual Positive  |\t      383      \t|\t    66\t       |\n",
      "Actual Negative  |\t      111      \t|\t    166\t       |\n",
      "----------------------------------------------------------------\n",
      "Accuracy: 0.756198347107438\n",
      "Recall: 0.8530066815144766\n",
      "Precision: 0.7753036437246964\n",
      "F1: 0.8123011664899258\n",
      "----------------------------------------------------------------\n",
      "Training Scores:\n",
      "[[1.         1.         1.         1.         1.        ]\n",
      " [1.         1.         1.         1.         1.        ]\n",
      " [1.         1.         1.         1.         1.        ]\n",
      " [1.         1.         1.         1.         1.        ]\n",
      " [1.         0.99913867 1.         1.         1.        ]\n",
      " [1.         0.99928212 1.         1.         1.        ]\n",
      " [0.99938499 0.99876999 1.         1.         1.        ]\n",
      " [0.99946179 0.99892357 1.         0.99946179 0.99946179]\n",
      " [0.99952153 0.99904306 1.         0.99952153 0.99952153]\n",
      " [0.99956952 0.99913904 1.         0.99956952 0.99913904]]\n",
      "Validation Scores:\n",
      "[[0.74526678 0.74182444 0.74354561 0.76592083 0.75172414]\n",
      " [0.74354561 0.74698795 0.7555938  0.77452668 0.76551724]\n",
      " [0.76592083 0.74354561 0.74698795 0.75043029 0.77068966]\n",
      " [0.767642   0.74526678 0.75215146 0.77280551 0.77241379]\n",
      " [0.77108434 0.74698795 0.75043029 0.76936317 0.77241379]\n",
      " [0.78313253 0.74526678 0.76419966 0.76075731 0.77758621]\n",
      " [0.75903614 0.74698795 0.77624785 0.75903614 0.78275862]\n",
      " [0.77969019 0.74354561 0.76419966 0.77452668 0.78103448]\n",
      " [0.77108434 0.76075731 0.77280551 0.75215146 0.77586207]\n",
      " [0.78313253 0.76592083 0.77108434 0.75043029 0.76724138]]\n"
     ]
    },
    {
     "data": {
      "image/png": "[encoded data removed]",
      "text/plain": [
       "<Figure size 576x432 with 1 Axes>"
      ]
     },
     "metadata": {
      "needs_background": "light"
     },
     "output_type": "display_data"
    }
   ],
   "source": [
    "print(\"Random Forest:\")\n",
    "calculate_metrics(y_test, random_forest_preds)\n",
    "print(\"----------------------------------------------------------------\")\n",
    "plot_learning_curve(rf_mdl, X_train, y_train, train_sizes=np.linspace(0.1, 1.0, 10), cv=5, scoring='accuracy')"
   ]
  },
  {
   "cell_type": "code",
   "execution_count": 44,
   "id": "6de8f6f1",
   "metadata": {},
   "outputs": [
    {
     "name": "stdout",
     "output_type": "stream",
     "text": [
      "Logistic Regression:\n",
      "\t\t |  Predicted Positive  |  Predicted Negative  |\n",
      "----------------------------------------------------------------\n",
      "Actual Positive  |\t      399      \t|\t    50\t       |\n",
      "Actual Negative  |\t      136      \t|\t    141\t       |\n",
      "----------------------------------------------------------------\n",
      "Accuracy: 0.743801652892562\n",
      "Recall: 0.888641425389755\n",
      "Precision: 0.7457943925233644\n",
      "F1: 0.8109756097560976\n",
      "----------------------------------------------------------------\n",
      "Training Scores:\n",
      "[[0.81465517 0.77155172 0.77155172 0.77155172 0.77155172]\n",
      " [0.75862069 0.76077586 0.76077586 0.76077586 0.76077586]\n",
      " [0.74856322 0.77011494 0.76436782 0.76436782 0.76436782]\n",
      " [0.74811625 0.75026911 0.7664155  0.7664155  0.7664155 ]\n",
      " [0.74763135 0.75796727 0.74935401 0.75366064 0.75366064]\n",
      " [0.75233309 0.75664034 0.75448672 0.75592247 0.75592247]\n",
      " [0.75522755 0.76076261 0.75584256 0.74907749 0.74907749]\n",
      " [0.7540366  0.75618945 0.75457481 0.75457481 0.75188375]\n",
      " [0.75311005 0.75167464 0.74976077 0.75167464 0.7507177 ]\n",
      " [0.75893241 0.75764098 0.75548859 0.75505811 0.75548859]]\n",
      "Validation Scores:\n",
      "[[0.71944923 0.74010327 0.74354561 0.73321859 0.73793103]\n",
      " [0.73149742 0.73149742 0.76247849 0.74182444 0.73275862]\n",
      " [0.75387263 0.73149742 0.75387263 0.75387263 0.74137931]\n",
      " [0.76075731 0.74182444 0.74870912 0.75387263 0.74137931]\n",
      " [0.74526678 0.73321859 0.75043029 0.7555938  0.74482759]\n",
      " [0.74870912 0.73493976 0.75043029 0.7555938  0.74655172]\n",
      " [0.74354561 0.74182444 0.75215146 0.76075731 0.74482759]\n",
      " [0.74526678 0.74354561 0.75731497 0.75215146 0.75172414]\n",
      " [0.74698795 0.74010327 0.75215146 0.75731497 0.75344828]\n",
      " [0.74870912 0.74182444 0.75215146 0.75215146 0.75517241]]\n"
     ]
    },
    {
     "data": {
      "image/png": "[encoded data removed]",
      "text/plain": [
       "<Figure size 576x432 with 1 Axes>"
      ]
     },
     "metadata": {
      "needs_background": "light"
     },
     "output_type": "display_data"
    }
   ],
   "source": [
    "print(\"Logistic Regression:\")\n",
    "calculate_metrics(y_test, logistic_regression_preds)\n",
    "print(\"----------------------------------------------------------------\")\n",
    "plot_learning_curve(logreg_mdl, X_train, y_train, train_sizes=np.linspace(0.1, 1.0, 10), cv=5, scoring='accuracy')"
   ]
  },
  {
   "cell_type": "code",
   "execution_count": 45,
   "id": "43efa62c",
   "metadata": {},
   "outputs": [
    {
     "name": "stdout",
     "output_type": "stream",
     "text": [
      "k-NN:\n",
      "\t\t |  Predicted Positive  |  Predicted Negative  |\n",
      "----------------------------------------------------------------\n",
      "Actual Positive  |\t      364      \t|\t    85\t       |\n",
      "Actual Negative  |\t      148      \t|\t    129\t       |\n",
      "----------------------------------------------------------------\n",
      "Accuracy: 0.6790633608815427\n",
      "Recall: 0.8106904231625836\n",
      "Precision: 0.7109375\n",
      "F1: 0.7575442247658688\n",
      "----------------------------------------------------------------\n",
      "Training Scores:\n",
      "[[0.71551724 0.70258621 0.70258621 0.70258621 0.70258621]\n",
      " [0.73060345 0.73491379 0.73491379 0.73491379 0.73491379]\n",
      " [0.73275862 0.73706897 0.74425287 0.74425287 0.74425287]\n",
      " [0.73089343 0.73842842 0.74488698 0.74488698 0.74488698]\n",
      " [0.73040482 0.72179156 0.73987941 0.73557278 0.73557278]\n",
      " [0.72433597 0.72074659 0.73653984 0.72290022 0.72290022]\n",
      " [0.72939729 0.72570726 0.73308733 0.72570726 0.72570726]\n",
      " [0.73466093 0.72228202 0.72820237 0.72443488 0.72604952]\n",
      " [0.72727273 0.7215311  0.72583732 0.71961722 0.7354067 ]\n",
      " [0.72664658 0.72578562 0.72664658 0.72535514 0.73224279]]\n",
      "Validation Scores:\n",
      "[[0.60929432 0.62478485 0.57314974 0.60240964 0.60517241]\n",
      " [0.6454389  0.65576592 0.62650602 0.62478485 0.61724138]\n",
      " [0.68330465 0.66609294 0.64888124 0.66781411 0.61896552]\n",
      " [0.67125645 0.66953528 0.65576592 0.66437177 0.62758621]\n",
      " [0.6454389  0.66953528 0.65232358 0.66609294 0.63275862]\n",
      " [0.65920826 0.69535284 0.65920826 0.65920826 0.63793103]\n",
      " [0.65748709 0.68502582 0.66953528 0.66609294 0.65172414]\n",
      " [0.64716007 0.6919105  0.67125645 0.66092943 0.64827586]\n",
      " [0.6746988  0.68674699 0.6626506  0.65920826 0.63965517]\n",
      " [0.66437177 0.68674699 0.66437177 0.66609294 0.63965517]]\n"
     ]
    },
    {
     "data": {
      "image/png": "[encoded data removed]",
      "text/plain": [
       "<Figure size 576x432 with 1 Axes>"
      ]
     },
     "metadata": {
      "needs_background": "light"
     },
     "output_type": "display_data"
    }
   ],
   "source": [
    "print(\"k-NN:\")\n",
    "calculate_metrics(y_test, knn_preds)\n",
    "print(\"----------------------------------------------------------------\")\n",
    "plot_learning_curve(knn_mdl, X_train, y_train, train_sizes=np.linspace(0.1, 1.0, 10), cv=5, scoring='accuracy')"
   ]
  },
  {
   "cell_type": "code",
   "execution_count": 46,
   "id": "6d74fcda",
   "metadata": {},
   "outputs": [
    {
     "name": "stdout",
     "output_type": "stream",
     "text": [
      "Naive Bayes - Cross-Validation Scores: [0.76712329 0.75862069 0.68965517 0.75172414 0.70344828]\n",
      "Naive Bayes - Mean CV Score: 0.7341143127066604\n",
      "\n",
      "Decision Tree - Cross-Validation Scores: [0.68493151 0.66206897 0.68275862 0.64137931 0.62758621]\n",
      "Decision Tree - Mean CV Score: 0.6597449220595183\n",
      "\n",
      "Random Forest - Cross-Validation Scores: [0.76712329 0.68965517 0.73103448 0.77241379 0.73793103]\n",
      "Random Forest - Mean CV Score: 0.7396315540859707\n",
      "\n",
      "Logistic Regression - Cross-Validation Scores: [0.75342466 0.73793103 0.68965517 0.74482759 0.73103448]\n",
      "Logistic Regression - Mean CV Score: 0.7313745866792632\n",
      "\n",
      "k-NN - Cross-Validation Scores: [0.7260274  0.66206897 0.68965517 0.66896552 0.67586207]\n",
      "k-NN - Mean CV Score: 0.684515824279641\n",
      "\n"
     ]
    }
   ],
   "source": [
    "model_names = ['Naive Bayes', 'Decision Tree', 'Random Forest', 'Logistic Regression', 'k-NN']\n",
    "all_preds = [naive_bayes_preds, decision_tree_preds, random_forest_preds, logistic_regression_preds, knn_preds]\n",
    "all_models = [nb_mdl, dt_mdl, rf_mdl, logreg_mdl, knn_mdl]\n",
    "\n",
    "# perform 5-fold cross-validation for each model and get mean CV scores\n",
    "mean_cv_scores = []\n",
    "for model_name, preds, model in zip(model_names, all_preds, all_models):\n",
    "    mean_cv_score = perform_cross_validation(model_name, preds, y_test, model)\n",
    "    mean_cv_scores.append(mean_cv_score)"
   ]
  },
  {
   "cell_type": "markdown",
   "id": "e1464787",
   "metadata": {},
   "source": [
    "## Final Ranking:\n",
    "\n",
    "1. Random Forest\n",
    "2. Naive Bayes\n",
    "3. Logistic Regression\n",
    "4. KNN (k = 9)\n",
    "5. Decision Tree\n",
    "6. Random Guess (Baseline)\n",
    "\n"
   ]
  },
  {
   "cell_type": "markdown",
   "id": "e8b2c6bc",
   "metadata": {},
   "source": [
    "## Student T-Test between Random Forest and Naive Bayes"
   ]
  },
  {
   "cell_type": "code",
   "execution_count": 47,
   "id": "e888896d",
   "metadata": {},
   "outputs": [
    {
     "data": {
      "text/plain": [
       "Ttest_indResult(statistic=-3.156742795408004, pvalue=0.0016282601188842996)"
      ]
     },
     "execution_count": 47,
     "metadata": {},
     "output_type": "execute_result"
    }
   ],
   "source": [
    "t_statistic, p_value = ttest_ind(random_forest_preds, naive_bayes_preds)\n",
    "\n",
    "ttest_ind(random_forest_preds, naive_bayes_preds)\n"
   ]
  },
  {
   "cell_type": "code",
   "execution_count": 48,
   "id": "6395234f",
   "metadata": {},
   "outputs": [
    {
     "name": "stdout",
     "output_type": "stream",
     "text": [
      "The means of the two groups are significantly different.\n"
     ]
    }
   ],
   "source": [
    "alpha = 0.05\n",
    "if p_value < alpha:\n",
    "    print(\"The means of the two groups are significantly different.\")\n",
    "else:\n",
    "    print(\"There is no significant difference between the means of the two groups.\")"
   ]
  },
  {
   "cell_type": "code",
   "execution_count": 51,
   "id": "47427b2b",
   "metadata": {},
   "outputs": [
    {
     "name": "stdout",
     "output_type": "stream",
     "text": [
      "Random Guess - t-statistic: 21.1488, p-value: 0.0000\n",
      "Naive Bayes - t-statistic: 7.3842, p-value: 0.0000\n",
      "Decision Tree - t-statistic: 0.8016, p-value: 0.4231\n",
      "Random Forest - t-statistic: 3.4070, p-value: 0.0007\n",
      "Logistic Regression - t-statistic: 6.4815, p-value: 0.0000\n",
      "k-NN - t-statistic: 4.1737, p-value: 0.0000\n"
     ]
    }
   ],
   "source": [
    "models_preds = [random_guess_preds, naive_bayes_preds, decision_tree_preds, random_forest_preds, logistic_regression_preds, knn_preds]\n",
    "model_names = ['Random Guess', 'Naive Bayes', 'Decision Tree', 'Random Forest', 'Logistic Regression', 'k-NN']\n",
    "\n",
    "for model_name, preds in zip(model_names, models_preds):\n",
    "    # Perform paired t-test\n",
    "    t_stat, p_value = ttest_rel(preds, y_test)\n",
    "\n",
    "    print(f\"{model_name} - t-statistic: {t_stat:.4f}, p-value: {p_value:.4f}\")"
   ]
  },
  {
   "cell_type": "markdown",
   "id": "79e1ba4d",
   "metadata": {},
   "source": [
    "## Feature importances from the Random Forest Model"
   ]
  },
  {
   "cell_type": "markdown",
   "id": "64dab508",
   "metadata": {},
   "source": [
    "Feature importances are provided by the fitted attribute feature_importances_ and they are computed as the mean and standard deviation of accumulation of the impurity decrease within each tree."
   ]
  },
  {
   "cell_type": "code",
   "execution_count": 64,
   "id": "83511ce0",
   "metadata": {},
   "outputs": [],
   "source": [
    "feature_names = X_train.columns.tolist()\n",
    "feature_importances = rf_mdl.feature_importances_\n",
    "std = np.std([rf_mdl.feature_importances_ for tree in rf_mdl.estimators_], axis=0)"
   ]
  },
  {
   "cell_type": "code",
   "execution_count": 65,
   "id": "9910dad1",
   "metadata": {},
   "outputs": [
    {
     "name": "stdout",
     "output_type": "stream",
     "text": [
      "                      Feature  Importance\n",
      "12          Age at enrollment    0.148730\n",
      "9     Tuition fees up to date    0.143651\n",
      "1                      Course    0.120437\n",
      "5         Father's occupation    0.083096\n",
      "4         Mother's occupation    0.071829\n",
      "3      Father's qualification    0.062204\n",
      "2      Mother's qualification    0.061148\n",
      "11         Scholarship holder    0.048687\n",
      "14          Unemployment rate    0.048047\n",
      "16                        GDP    0.047373\n",
      "10                     Gender    0.043257\n",
      "15             Inflation rate    0.042490\n",
      "8                      Debtor    0.029930\n",
      "6                   Displaced    0.024472\n",
      "0              Marital status    0.015120\n",
      "13              International    0.006512\n",
      "7   Educational special needs    0.003020\n"
     ]
    }
   ],
   "source": [
    "feature_importance_df = pd.DataFrame({'Feature': feature_names, 'Importance': feature_importances})\n",
    "feature_importance_df = feature_importance_df.sort_values(by='Importance', ascending=False)\n",
    "print(feature_importance_df)"
   ]
  },
  {
   "cell_type": "code",
   "execution_count": 67,
   "id": "b947346b",
   "metadata": {},
   "outputs": [
    {
     "data": {
      "image/png": "[encoded data removed]",
      "text/plain": [
       "<Figure size 720x432 with 1 Axes>"
      ]
     },
     "metadata": {
      "needs_background": "light"
     },
     "output_type": "display_data"
    }
   ],
   "source": [
    "plt.figure(figsize=(10, 6))\n",
    "plt.barh(feature_importance_df['Feature'], feature_importance_df['Importance'],\n",
    "         xerr=std, capsize=4) \n",
    "plt.xlabel('Importance')\n",
    "plt.ylabel('Feature')\n",
    "plt.title('Feature Importances using MDI')\n",
    "plt.gca().invert_yaxis()  \n",
    "plt.tight_layout()\n",
    "\n",
    "plt.show()"
   ]
  },
  {
   "cell_type": "code",
   "execution_count": null,
   "id": "e0f30320",
   "metadata": {},
   "outputs": [],
   "source": []
  }
 ],
 "metadata": {
  "kernelspec": {
   "display_name": "Python 3 (ipykernel)",
   "language": "python",
   "name": "python3"
  },
  "language_info": {
   "codemirror_mode": {
    "name": "ipython",
    "version": 3
   },
   "file_extension": ".py",
   "mimetype": "text/x-python",
   "name": "python",
   "nbconvert_exporter": "python",
   "pygments_lexer": "ipython3",
   "version": "3.9.7"
  }
 },
 "nbformat": 4,
 "nbformat_minor": 5
}
